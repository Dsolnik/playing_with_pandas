{
 "cells": [
  {
   "cell_type": "markdown",
   "metadata": {},
   "source": [
    "### Testing the lognormal assumption for stock returns\n",
    "One of the assumptions of the black scholes model is log-normal returns on the underlying so here I will try and see if the distribution of the log returns looks normal. First, we'll try with some MSFT stock data. Then, with an index fund."
   ]
  },
  {
   "cell_type": "code",
   "execution_count": 35,
   "metadata": {},
   "outputs": [],
   "source": [
    "import pandas as pd\n",
    "import requests as req\n",
    "import numpy as np\n",
    "import quandl\n",
    "\n",
    "from datetime import datetime, timedelta\n",
    "\n",
    "# api_key = **REDACTED**\n",
    "\n",
    "query_url = 'https://www.alphavantage.co/query'\n",
    "function = 'TIME_SERIES_INTRADAY'\n",
    "symbol = 'NFLX'\n",
    "interval = '1min'\n",
    "output_size = 'full'\n",
    "\n",
    "# let's read in the stock data for today\n",
    "qstring = 'https://www.alphavantage.co/query?function=TIME_SERIES_INTRADAY&symbol=MSFT&interval=5min&outputsize=full&apikey=demo'\n",
    "qstring2 = f'https://www.alphavantage.co/query?function={function}&symbol={symbol}&interval={interval}&output_size={output_size}&apikey={api_key}'\n",
    "\n",
    "response = req.get(qstring)"
   ]
  },
  {
   "cell_type": "code",
   "execution_count": 36,
   "metadata": {},
   "outputs": [
    {
     "data": {
      "text/html": [
       "<div>\n",
       "<style scoped>\n",
       "    .dataframe tbody tr th:only-of-type {\n",
       "        vertical-align: middle;\n",
       "    }\n",
       "\n",
       "    .dataframe tbody tr th {\n",
       "        vertical-align: top;\n",
       "    }\n",
       "\n",
       "    .dataframe thead th {\n",
       "        text-align: right;\n",
       "    }\n",
       "</style>\n",
       "<table border=\"1\" class=\"dataframe\">\n",
       "  <thead>\n",
       "    <tr style=\"text-align: right;\">\n",
       "      <th></th>\n",
       "      <th>open</th>\n",
       "      <th>high</th>\n",
       "      <th>low</th>\n",
       "      <th>close</th>\n",
       "      <th>volume</th>\n",
       "    </tr>\n",
       "    <tr>\n",
       "      <th>timestamp</th>\n",
       "      <th></th>\n",
       "      <th></th>\n",
       "      <th></th>\n",
       "      <th></th>\n",
       "      <th></th>\n",
       "    </tr>\n",
       "  </thead>\n",
       "  <tbody>\n",
       "    <tr>\n",
       "      <th>2019-02-08 16:00:00</th>\n",
       "      <td>105.17</td>\n",
       "      <td>105.7800</td>\n",
       "      <td>105.1000</td>\n",
       "      <td>105.75</td>\n",
       "      <td>1760287</td>\n",
       "    </tr>\n",
       "    <tr>\n",
       "      <th>2019-02-08 15:55:00</th>\n",
       "      <td>105.11</td>\n",
       "      <td>105.2500</td>\n",
       "      <td>105.1100</td>\n",
       "      <td>105.18</td>\n",
       "      <td>330334</td>\n",
       "    </tr>\n",
       "    <tr>\n",
       "      <th>2019-02-08 15:50:00</th>\n",
       "      <td>105.08</td>\n",
       "      <td>105.1700</td>\n",
       "      <td>105.0551</td>\n",
       "      <td>105.10</td>\n",
       "      <td>250878</td>\n",
       "    </tr>\n",
       "    <tr>\n",
       "      <th>2019-02-08 15:45:00</th>\n",
       "      <td>105.14</td>\n",
       "      <td>105.1400</td>\n",
       "      <td>105.0500</td>\n",
       "      <td>105.09</td>\n",
       "      <td>164148</td>\n",
       "    </tr>\n",
       "    <tr>\n",
       "      <th>2019-02-08 15:40:00</th>\n",
       "      <td>105.14</td>\n",
       "      <td>105.1551</td>\n",
       "      <td>105.0700</td>\n",
       "      <td>105.15</td>\n",
       "      <td>159033</td>\n",
       "    </tr>\n",
       "  </tbody>\n",
       "</table>\n",
       "</div>"
      ],
      "text/plain": [
       "                       open      high       low   close   volume\n",
       "timestamp                                                       \n",
       "2019-02-08 16:00:00  105.17  105.7800  105.1000  105.75  1760287\n",
       "2019-02-08 15:55:00  105.11  105.2500  105.1100  105.18   330334\n",
       "2019-02-08 15:50:00  105.08  105.1700  105.0551  105.10   250878\n",
       "2019-02-08 15:45:00  105.14  105.1400  105.0500  105.09   164148\n",
       "2019-02-08 15:40:00  105.14  105.1551  105.0700  105.15   159033"
      ]
     },
     "execution_count": 36,
     "metadata": {},
     "output_type": "execute_result"
    }
   ],
   "source": [
    "# pd.from_json(response.text)\n",
    "\n",
    "time_series = response.json()['Time Series (5min)']\n",
    "stocks = pd.DataFrame.from_dict(time_series).T\n",
    "\n",
    "stocks = stocks.reset_index()\n",
    "stocks['timestamp'] = stocks['index']\\\n",
    "                        .pipe(pd.to_datetime, format='%Y-%m-%d %H:%M:%S')\n",
    "\n",
    "# get rid of the old timestamp\n",
    "# cast the columns to be numeric\n",
    "# get rid of the pesky number in '1. open' or '2. high', etc\n",
    "stocks = stocks\\\n",
    "            .set_index('timestamp')\\\n",
    "            .drop('index', axis=1)\\\n",
    "            .apply(pd.to_numeric)\\\n",
    "            .rename(lambda s: s.split()[-1].strip(), axis='columns')\n",
    "\n",
    "stocks.head()\n",
    "# len(stocks)"
   ]
  },
  {
   "cell_type": "code",
   "execution_count": 37,
   "metadata": {},
   "outputs": [
    {
     "data": {
      "text/plain": [
       "Text(0, 0.5, 'price')"
      ]
     },
     "execution_count": 37,
     "metadata": {},
     "output_type": "execute_result"
    },
    {
     "data": {
      "image/png": "[encoded data removed]",
      "text/plain": [
       "<Figure size 432x288 with 1 Axes>"
      ]
     },
     "metadata": {
      "needs_background": "light"
     },
     "output_type": "display_data"
    }
   ],
   "source": [
    "# Let's plot the data over time\n",
    "stocks[stocks.columns[:-1]].plot(grid=True).set_ylabel('price')"
   ]
  },
  {
   "cell_type": "code",
   "execution_count": 38,
   "metadata": {},
   "outputs": [
    {
     "data": {
      "text/plain": [
       "Text(0, 0.5, 'volume(1000s)')"
      ]
     },
     "execution_count": 38,
     "metadata": {},
     "output_type": "execute_result"
    },
    {
     "data": {
      "image/png": "[encoded data removed]",
      "text/plain": [
       "<Figure size 432x288 with 1 Axes>"
      ]
     },
     "metadata": {
      "needs_background": "light"
     },
     "output_type": "display_data"
    }
   ],
   "source": [
    "# now let's check out volume\n",
    "\n",
    "# I convert it to a data frame because it makes the legend by default\n",
    "stocks.volume\\\n",
    "    .pipe(lambda x: x / 1000)\\\n",
    "    .to_frame()\\\n",
    "    .plot(grid=True)\\\n",
    "    .set_ylabel('volume(1000s)')"
   ]
  },
  {
   "cell_type": "code",
   "execution_count": 39,
   "metadata": {},
   "outputs": [
    {
     "data": {
      "text/plain": [
       "array([[<matplotlib.axes._subplots.AxesSubplot object at 0x7fcbee982eb8>,\n",
       "        <matplotlib.axes._subplots.AxesSubplot object at 0x7fcbee9ac198>],\n",
       "       [<matplotlib.axes._subplots.AxesSubplot object at 0x7fcbee950710>,\n",
       "        <matplotlib.axes._subplots.AxesSubplot object at 0x7fcbee8f9c88>]],\n",
       "      dtype=object)"
      ]
     },
     "execution_count": 39,
     "metadata": {},
     "output_type": "execute_result"
    },
    {
     "data": {
      "image/png": "[encoded data removed]",
      "text/plain": [
       "<Figure size 432x288 with 4 Axes>"
      ]
     },
     "metadata": {
      "needs_background": "light"
     },
     "output_type": "display_data"
    }
   ],
   "source": [
    "# Now let's check out the lognormal nature of the returns\n",
    "stock_prices = stocks[stocks.columns[:-1]]\n",
    "log_prices = np.log(stock_prices)\\\n",
    "                .pipe(lambda df: df.sub(df.iloc[0]))\n",
    "\n",
    "# ok that looks kinda lognormal lol\n",
    "log_prices.hist()\n"
   ]
  },
  {
   "cell_type": "code",
   "execution_count": 41,
   "metadata": {},
   "outputs": [
    {
     "data": {
      "text/html": [
       "<div>\n",
       "<style scoped>\n",
       "    .dataframe tbody tr th:only-of-type {\n",
       "        vertical-align: middle;\n",
       "    }\n",
       "\n",
       "    .dataframe tbody tr th {\n",
       "        vertical-align: top;\n",
       "    }\n",
       "\n",
       "    .dataframe thead th {\n",
       "        text-align: right;\n",
       "    }\n",
       "</style>\n",
       "<table border=\"1\" class=\"dataframe\">\n",
       "  <thead>\n",
       "    <tr style=\"text-align: right;\">\n",
       "      <th></th>\n",
       "      <th>Index Value</th>\n",
       "      <th>High</th>\n",
       "      <th>Low</th>\n",
       "      <th>Total Market Value</th>\n",
       "      <th>Dividend Market Value</th>\n",
       "    </tr>\n",
       "    <tr>\n",
       "      <th>Trade Date</th>\n",
       "      <th></th>\n",
       "      <th></th>\n",
       "      <th></th>\n",
       "      <th></th>\n",
       "      <th></th>\n",
       "    </tr>\n",
       "  </thead>\n",
       "  <tbody>\n",
       "    <tr>\n",
       "      <th>2018-01-02</th>\n",
       "      <td>1401.60</td>\n",
       "      <td>1401.65</td>\n",
       "      <td>1395.18</td>\n",
       "      <td>2.013357e+13</td>\n",
       "      <td>9.748509e+08</td>\n",
       "    </tr>\n",
       "    <tr>\n",
       "      <th>2018-01-03</th>\n",
       "      <td>1410.14</td>\n",
       "      <td>1410.75</td>\n",
       "      <td>1402.57</td>\n",
       "      <td>2.025621e+13</td>\n",
       "      <td>0.000000e+00</td>\n",
       "    </tr>\n",
       "    <tr>\n",
       "      <th>2018-01-04</th>\n",
       "      <td>1415.69</td>\n",
       "      <td>1418.59</td>\n",
       "      <td>1412.87</td>\n",
       "      <td>2.033596e+13</td>\n",
       "      <td>4.275579e+09</td>\n",
       "    </tr>\n",
       "    <tr>\n",
       "      <th>2018-01-05</th>\n",
       "      <td>1425.26</td>\n",
       "      <td>1425.39</td>\n",
       "      <td>1417.58</td>\n",
       "      <td>2.047334e+13</td>\n",
       "      <td>0.000000e+00</td>\n",
       "    </tr>\n",
       "    <tr>\n",
       "      <th>2018-01-08</th>\n",
       "      <td>1427.72</td>\n",
       "      <td>1428.15</td>\n",
       "      <td>1422.54</td>\n",
       "      <td>2.050875e+13</td>\n",
       "      <td>3.515223e+08</td>\n",
       "    </tr>\n",
       "  </tbody>\n",
       "</table>\n",
       "</div>"
      ],
      "text/plain": [
       "            Index Value     High      Low  Total Market Value  \\\n",
       "Trade Date                                                      \n",
       "2018-01-02      1401.60  1401.65  1395.18        2.013357e+13   \n",
       "2018-01-03      1410.14  1410.75  1402.57        2.025621e+13   \n",
       "2018-01-04      1415.69  1418.59  1412.87        2.033596e+13   \n",
       "2018-01-05      1425.26  1425.39  1417.58        2.047334e+13   \n",
       "2018-01-08      1427.72  1428.15  1422.54        2.050875e+13   \n",
       "\n",
       "            Dividend Market Value  \n",
       "Trade Date                         \n",
       "2018-01-02           9.748509e+08  \n",
       "2018-01-03           0.000000e+00  \n",
       "2018-01-04           4.275579e+09  \n",
       "2018-01-05           0.000000e+00  \n",
       "2018-01-08           3.515223e+08  "
      ]
     },
     "execution_count": 41,
     "metadata": {},
     "output_type": "execute_result"
    }
   ],
   "source": [
    "import quandl \n",
    "stocks = quandl.get(\"NASDAQOMX/NQUS500LC\", authtoken= **REDACTED**)\n",
    "stocks.head()"
   ]
  },
  {
   "cell_type": "code",
   "execution_count": 42,
   "metadata": {},
   "outputs": [
    {
     "data": {
      "text/plain": [
       "<matplotlib.axes._subplots.AxesSubplot at 0x7fcbee83a978>"
      ]
     },
     "execution_count": 42,
     "metadata": {},
     "output_type": "execute_result"
    },
    {
     "data": {
      "image/png": "[encoded data removed]",
      "text/plain": [
       "<Figure size 432x288 with 1 Axes>"
      ]
     },
     "metadata": {
      "needs_background": "light"
     },
     "output_type": "display_data"
    }
   ],
   "source": [
    "stock_prices = stocks['Index Value']\n",
    "log_stock_prices = np.log(stock_prices)\\\n",
    "                .pipe(lambda df: df.sub(df.iloc[0]))\n",
    "log_stock_prices.hist(bins=15)\n",
    "# This lognormal assumption doesn't appear to be great"
   ]
  },
  {
   "cell_type": "code",
   "execution_count": 31,
   "metadata": {},
   "outputs": [
    {
     "data": {
      "text/plain": [
       "count                     278\n",
       "unique                    278\n",
       "top       2018-01-31 00:00:00\n",
       "freq                        1\n",
       "first     2018-01-02 00:00:00\n",
       "last      2019-02-08 00:00:00\n",
       "Name: Trade Date, dtype: object"
      ]
     },
     "execution_count": 31,
     "metadata": {},
     "output_type": "execute_result"
    }
   ],
   "source": [
    "# Although it is possible that it's just not good over the period of a month\n",
    "stocks.reset_index()['Trade Date'].describe()"
   ]
  }
 ],
 "metadata": {
  "kernelspec": {
   "display_name": "Python 3",
   "language": "python",
   "name": "python3"
  },
  "language_info": {
   "codemirror_mode": {
    "name": "ipython",
    "version": 3
   },
   "file_extension": ".py",
   "mimetype": "text/x-python",
   "name": "python",
   "nbconvert_exporter": "python",
   "pygments_lexer": "ipython3",
   "version": "3.7.1"
  }
 },
 "nbformat": 4,
 "nbformat_minor": 2
}
